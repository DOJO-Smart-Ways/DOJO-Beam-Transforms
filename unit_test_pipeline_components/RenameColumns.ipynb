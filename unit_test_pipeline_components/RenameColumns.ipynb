{
  "cells": [
    {
      "cell_type": "markdown",
      "metadata": {
        "colab_type": "text",
        "id": "view-in-github"
      },
      "source": [
        "<a href=\"https://colab.research.google.com/github/DOJO-Smart-Ways/DOJO-Beam-Transforms/blob/main/unit_test_pipeline_components/RenameColumns.ipynb\" target=\"_parent\"><img src=\"https://colab.research.google.com/assets/colab-badge.svg\" alt=\"Open In Colab\"/></a>"
      ]
    },
    {
      "cell_type": "code",
      "execution_count": null,
      "metadata": {
        "colab": {
          "base_uri": "https://localhost:8080/",
          "height": 1000
        },
        "id": "vHS8g92LglWa",
        "outputId": "f52d8e5a-b894-4dfc-8766-3396c84c6877"
      },
      "outputs": [],
      "source": [
        "!pip install git+https://github.com/DOJO-Smart-Ways/DOJO-Beam-Transforms.git@main#egg=dojo-beam-transforms"
      ]
    },
    {
      "cell_type": "code",
      "execution_count": 29,
      "metadata": {
        "colab": {
          "base_uri": "https://localhost:8080/"
        },
        "id": "xKRj8x0sgho8",
        "outputId": "1c0c4d60-ec44-4979-85cc-3fed13cbd491"
      },
      "outputs": [
        {
          "name": "stderr",
          "output_type": "stream",
          "text": [
            "....\n",
            "----------------------------------------------------------------------\n",
            "Ran 4 tests in 2.399s\n",
            "\n",
            "OK\n"
          ]
        }
      ],
      "source": [
        "import unittest\n",
        "from apache_beam.testing.test_pipeline import TestPipeline\n",
        "from apache_beam.testing.util import assert_that\n",
        "from apache_beam.testing.util import equal_to\n",
        "import apache_beam as beam\n",
        "from datetime import datetime, timedelta\n",
        "import pandas as pd\n",
        "\n",
        "class RenameColumns(beam.DoFn):\n",
        "    def __init__(self, column_mapping):\n",
        "        self.column_mapping = column_mapping\n",
        "\n",
        "    def process(self, element):\n",
        "        new_element = {self.column_mapping.get(k, k): v for k, v in element.items()}\n",
        "        yield new_element\n",
        "\n",
        "class TestRenameColumns(unittest.TestCase):\n",
        "    def test_rename_columns_full_mapping(self):\n",
        "        with TestPipeline() as p:\n",
        "            input_data = [{'a': 1, 'b': 2}]\n",
        "            expected_data = [{'x': 1, 'y': 2}]\n",
        "            column_mapping = {'a': 'x', 'b': 'y'}\n",
        "\n",
        "            output = (\n",
        "                p\n",
        "                | \"CreateInput\" >> beam.Create(input_data)\n",
        "                | \"RenameColumns\" >> beam.ParDo(RenameColumns(column_mapping))\n",
        "            )\n",
        "\n",
        "            assert_that(output, equal_to(expected_data))\n",
        "\n",
        "    def test_rename_columns_partial_mapping(self):\n",
        "        with TestPipeline() as p:\n",
        "            input_data = [{'a': 1, 'b': 2}]\n",
        "            expected_data = [{'x': 1, 'b': 2}]\n",
        "            column_mapping = {'a': 'x'}\n",
        "\n",
        "            output = (\n",
        "                p\n",
        "                | \"CreateInput\" >> beam.Create(input_data)\n",
        "                | \"RenameColumns\" >> beam.ParDo(RenameColumns(column_mapping))\n",
        "            )\n",
        "\n",
        "            assert_that(output, equal_to(expected_data))\n",
        "\n",
        "    def test_rename_columns_no_mapping(self):\n",
        "        with TestPipeline() as p:\n",
        "            input_data = [{'a': 1, 'b': 2}]\n",
        "            expected_data = [{'a': 1, 'b': 2}]\n",
        "            column_mapping = {}\n",
        "\n",
        "            output = (\n",
        "                p\n",
        "                | \"CreateInput\" >> beam.Create(input_data)\n",
        "                | \"RenameColumns\" >> beam.ParDo(RenameColumns(column_mapping))\n",
        "            )\n",
        "\n",
        "            assert_that(output, equal_to(expected_data))\n",
        "\n",
        "\n",
        "    def test_rename_columns_dtype_consistency_with_timestamp(self):\n",
        "        with TestPipeline() as p:\n",
        "            initial_time_datetime = datetime.now()\n",
        "            timestamp = pd.to_datetime(datetime.now())\n",
        "\n",
        "            input_data = [{'datetime': initial_time_datetime, 'timestamp': timestamp}]\n",
        "            expected_data = [{'new_datetime': initial_time_datetime, 'new_timestamp': timestamp}]\n",
        "            column_mapping = {'datetime': 'new_datetime', 'timestamp': 'new_timestamp'}\n",
        "\n",
        "            output = (\n",
        "                p\n",
        "                | beam.Create(input_data)\n",
        "                | beam.ParDo(RenameColumns(column_mapping))\n",
        "            )\n",
        "\n",
        "            assert_that(output, equal_to(expected_data))\n",
        "\n",
        "\n",
        "\n",
        "\n",
        "def run_tests():\n",
        "    suite = unittest.TestSuite()\n",
        "    loader = unittest.TestLoader()\n",
        "    suite.addTests(loader.loadTestsFromTestCase(TestRenameColumns))\n",
        "\n",
        "    runner = unittest.TextTestRunner()\n",
        "    runner.run(suite)\n",
        "\n",
        "# Chamada da função de execução dos testes\n",
        "run_tests()"
      ]
    }
  ],
  "metadata": {
    "colab": {
      "authorship_tag": "ABX9TyPo7oqoexlG5liSpW9owBPc",
      "include_colab_link": true,
      "provenance": []
    },
    "kernelspec": {
      "display_name": "Python 3",
      "name": "python3"
    },
    "language_info": {
      "name": "python"
    }
  },
  "nbformat": 4,
  "nbformat_minor": 0
}
