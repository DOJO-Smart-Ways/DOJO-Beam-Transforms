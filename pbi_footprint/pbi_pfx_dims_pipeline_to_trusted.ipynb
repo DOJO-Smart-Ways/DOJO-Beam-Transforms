{
  "nbformat": 4,
  "nbformat_minor": 0,
  "metadata": {
    "colab": {
      "provenance": [],
      "authorship_tag": "ABX9TyPSvwMUaZpr9vu4lSEDn4kq",
      "include_colab_link": true
    },
    "kernelspec": {
      "name": "python3",
      "display_name": "Python 3"
    },
    "language_info": {
      "name": "python"
    }
  },
  "cells": [
    {
      "cell_type": "markdown",
      "metadata": {
        "id": "view-in-github",
        "colab_type": "text"
      },
      "source": [
        "<a href=\"https://colab.research.google.com/github/DOJO-Smart-Ways/DOJO-Beam-Transforms/blob/pbi-footprint/pbi_footprint/pbi_pfx_dims_pipeline_to_trusted.ipynb\" target=\"_parent\"><img src=\"https://colab.research.google.com/assets/colab-badge.svg\" alt=\"Open In Colab\"/></a>"
      ]
    },
    {
      "cell_type": "markdown",
      "source": [
        "# Configs"
      ],
      "metadata": {
        "id": "GLMhJWTtKfCt"
      }
    },
    {
      "cell_type": "code",
      "source": [
        "!pip install git+https://github.com/DOJO-Smart-Ways/DOJO-Beam-Transforms.git@pbi-footprint#egg=dojo-beam-transforms"
      ],
      "metadata": {
        "id": "n5CcdftIQ78K"
      },
      "execution_count": null,
      "outputs": []
    },
    {
      "cell_type": "code",
      "source": [
        "import apache_beam as beam\n",
        "from apache_beam.options.pipeline_options import PipelineOptions\n",
        "from apache_beam.runners.interactive.interactive_runner import InteractiveRunner\n",
        "import apache_beam.runners.interactive.interactive_beam as ib\n",
        "\n",
        "import os\n",
        "\n",
        "from google.cloud import bigquery\n",
        "\n",
        "# Google Auth\n",
        "from google.colab import auth\n",
        "auth.authenticate_user()\n",
        "print('Authenticated')\n",
        "\n",
        "# GCP Project\n",
        "os.environ[\"GOOGLE_CLOUD_PROJECT\"]= 'nidec-ga'"
      ],
      "metadata": {
        "id": "gBqoKB1_J7y4",
        "colab": {
          "base_uri": "https://localhost:8080/"
        },
        "outputId": "2ddf462d-12e5-42a8-c9f8-946118c57c81"
      },
      "execution_count": null,
      "outputs": [
        {
          "output_type": "stream",
          "name": "stdout",
          "text": [
            "Authenticated\n"
          ]
        }
      ]
    },
    {
      "cell_type": "code",
      "source": [
        "from pipeline_components.input_file import read_bq\n",
        "from pipeline_components import data_enrichment as de\n",
        "from pipeline_components import data_cleaning as dc\n",
        "from pipeline_components import data_understand as du"
      ],
      "metadata": {
        "id": "mJBVWsD5J9fz"
      },
      "execution_count": null,
      "outputs": []
    },
    {
      "cell_type": "markdown",
      "source": [
        "# Pipeline Options"
      ],
      "metadata": {
        "id": "dd0DqfoxKoXG"
      }
    },
    {
      "cell_type": "code",
      "source": [
        "pipeline_options = {\n",
        "    'project':'nidec-ga',\n",
        "    'runner':'DataflowRunner',\n",
        "    'region':'us-central1',\n",
        "    'staging_location':'gs://nidec-ga-temp/data-flow-pipelines/pbi-footprint/staging',\n",
        "    'temp_location':'gs://nidec-ga-temp/data-flow-pipelines/pbi-footprint/temp',\n",
        "    'template_location':'gs://nidec-ga-temp/data-flow-pipelines/pbi-footprint/template/pbi-pfx-bw-dims',\n",
        "    'sdk_container_image': 'us-central1-docker.pkg.dev/nidec-ga/dojo-beam/dojo_beam',\n",
        "    'sdk_location': 'container'\n",
        "}\n",
        "\n",
        "\n",
        "# pipeline_options = {\n",
        "#     'project':'nidec-ga'\n",
        "# }\n",
        "\n",
        "pipeline_options = PipelineOptions.from_dictionary(pipeline_options)\n",
        "pipeline = beam.Pipeline(options=pipeline_options)"
      ],
      "metadata": {
        "id": "mZ8LGFkgJ-zm"
      },
      "execution_count": null,
      "outputs": []
    },
    {
      "cell_type": "markdown",
      "source": [
        "# Aux Methods"
      ],
      "metadata": {
        "id": "BQW_U3vxKiHR"
      }
    },
    {
      "cell_type": "code",
      "source": [
        "def make_path(*args: str) -> str:\n",
        "    if args:\n",
        "        return \"gs://\" + \"/\".join(args)\n",
        "    else:\n",
        "        return \"\""
      ],
      "metadata": {
        "id": "FgBH_mvGKYtd"
      },
      "execution_count": null,
      "outputs": []
    },
    {
      "cell_type": "code",
      "source": [
        "def build_schema(column_tuples):\n",
        "    \"\"\"\n",
        "    Builds a BigQuery schema from a list of tuples containing column name and data type.\n",
        "\n",
        "    Args:\n",
        "        column_tuples (list): List of tuples containing column name and data type.\n",
        "\n",
        "    Returns:\n",
        "        dict: BigQuery schema.\n",
        "    \"\"\"\n",
        "    schema = {'fields': []}\n",
        "    for name, data_type in column_tuples:\n",
        "        schema['fields'].append({'name': name, 'type': data_type})\n",
        "    return schema"
      ],
      "metadata": {
        "id": "WAhFzhvitsMK"
      },
      "execution_count": null,
      "outputs": []
    },
    {
      "cell_type": "code",
      "source": [
        "def get_pbi_dim_material_query(table: str) -> str:\n",
        "  pbi_data_query = (\n",
        "    f\"\"\"\n",
        "      SELECT DISTINCT\n",
        "        UPPER(ORG) AS ORG,\n",
        "        UPPER(MATERIAL) AS COMPONENT,\n",
        "        UPPER(SIMILAR) AS SIMILAR,\n",
        "        UPPER(MATERIAL_DESCRIPTION) AS MATERIAL_DESCRIPTION,\n",
        "        UPPER(UOM) AS UOM,\n",
        "        UPPER(CATEGORY_LOCAL) AS CATEGORY_LOCAL,\n",
        "        UPPER(FAMILY_LOCAL) AS FAMILY_LOCAL,\n",
        "        UPPER(DRI_CODE) AS DRI_CODE,\n",
        "        UPPER(CATEGORY) AS CATEGORY,\n",
        "        UPPER(FAMILY) AS FAMILY,\n",
        "        UPPER(`GROUP`) AS `GROUP`,\n",
        "        PBI_KEY\n",
        "      FROM\n",
        "        `{table}`\n",
        "    \"\"\"\n",
        "  )\n",
        "\n",
        "  return pbi_data_query"
      ],
      "metadata": {
        "id": "OZeaBDpRdxGn"
      },
      "execution_count": null,
      "outputs": []
    },
    {
      "cell_type": "code",
      "source": [
        "def get_pbi_dim_vendor_query(table: str) -> str:\n",
        "  pbi_data_query = (\n",
        "      f\"\"\"\n",
        "        SELECT DISTINCT\n",
        "          VENDOR,\n",
        "          ORG,\n",
        "          VENDOR_COUNTRY,\n",
        "          REGIONAL_DIRECTOR,\n",
        "          VENDOR_LOCAL_NAME,\n",
        "          VENDOR_NAME,\n",
        "          VENDOR_TYPE,\n",
        "          VENDOR_MANAGEMENT,\n",
        "          REGIONAL_ACCOUNT_MANAGER,\n",
        "          GLOBAL_ACCOUNT_MANAGER,\n",
        "          GLOBAL_DIRECTOR,\n",
        "          LEAD_NEGOTIATOR,\n",
        "          COMMERCIAL_STRATEGY\n",
        "        FROM\n",
        "          `{table}`\n",
        "      \"\"\"\n",
        "  )\n",
        "\n",
        "  return pbi_data_query\n"
      ],
      "metadata": {
        "id": "CX9j-p7zsgBR"
      },
      "execution_count": null,
      "outputs": []
    },
    {
      "cell_type": "markdown",
      "source": [
        "# Pipeline builds"
      ],
      "metadata": {
        "id": "bZhf3ZabKrV9"
      }
    },
    {
      "cell_type": "code",
      "source": [
        "# Main function of the Pipeline\n",
        "def build_material_dim(source_table, target_table, temp_location):\n",
        "  p_collection = read_bq(pipeline, get_pbi_dim_material_query(source_table), temp_location, identifier=\"DIM Material\")\n",
        "\n",
        "  columns = [\n",
        "      ('ORG', 'STRING'),\n",
        "      ('COMPONENT', 'STRING'),\n",
        "      ('SIMILAR', 'STRING'),\n",
        "      ('MATERIAL_DESCRIPTION', 'STRING'),\n",
        "      ('UOM', 'STRING'),\n",
        "      ('CATEGORY_LOCAL', 'STRING'),\n",
        "      ('FAMILY_LOCAL', 'STRING'),\n",
        "      ('DRI_CODE', 'STRING'),\n",
        "      ('CATEGORY', 'STRING'),\n",
        "      ('FAMILY', 'STRING'),\n",
        "      ('GROUP', 'STRING'),\n",
        "      ('PBI_KEY', 'STRING')\n",
        "  ]\n",
        "\n",
        "  schema = build_schema(columns)\n",
        "\n",
        "  p_collection | 'Write To BigQuery for pbi_dim_material' >> beam.io.WriteToBigQuery(\n",
        "    target_table,\n",
        "    schema=schema,\n",
        "    create_disposition=beam.io.BigQueryDisposition.CREATE_IF_NEEDED,\n",
        "    write_disposition=beam.io.BigQueryDisposition.WRITE_TRUNCATE,\n",
        "    custom_gcs_temp_location = temp_location\n",
        "  )\n",
        "\n",
        "\n",
        "  pipeline.run().wait_until_finish()"
      ],
      "metadata": {
        "id": "mNIZgaTfdn4c"
      },
      "execution_count": null,
      "outputs": []
    },
    {
      "cell_type": "code",
      "source": [
        "# Main function of the Pipeline\n",
        "def build_vendor_dim(source_table, target_table, temp_location):\n",
        "  p_collection = read_bq(pipeline, get_pbi_dim_vendor_query(source_table), temp_location, identifier=\"DIM Vendor\")\n",
        "\n",
        "  columns = [\n",
        "    ('VENDOR', 'STRING'),\n",
        "    ('ORG', 'STRING'),\n",
        "    ('VENDOR_COUNTRY', 'STRING'),\n",
        "    ('REGIONAL_DIRECTOR', 'STRING'),\n",
        "    ('VENDOR_LOCAL_NAME', 'STRING'),\n",
        "    ('VENDOR_NAME', 'STRING'),\n",
        "    ('VENDOR_TYPE', 'STRING'),\n",
        "    ('VENDOR_MANAGEMENT', 'STRING'),\n",
        "    ('REGIONAL_ACCOUNT_MANAGER', 'STRING'),\n",
        "    ('GLOBAL_ACCOUNT_MANAGER', 'STRING'),\n",
        "    ('GLOBAL_DIRECTOR', 'STRING'),\n",
        "    ('LEAD_NEGOTIATOR', 'STRING'),\n",
        "    ('COMMERCIAL_STRATEGY', 'STRING')\n",
        "  ]\n",
        "\n",
        "  schema = build_schema(columns)\n",
        "\n",
        "  p_collection | 'Write To BigQuery pbi_dim_vendor' >> beam.io.WriteToBigQuery(\n",
        "    target_table,\n",
        "    schema=schema,\n",
        "    create_disposition=beam.io.BigQueryDisposition.CREATE_IF_NEEDED,\n",
        "    write_disposition=beam.io.BigQueryDisposition.WRITE_TRUNCATE,\n",
        "    custom_gcs_temp_location = temp_location\n",
        "  )\n",
        "\n",
        "\n",
        "  pipeline.run().wait_until_finish()\n"
      ],
      "metadata": {
        "id": "DzJSIb3Tsw_j"
      },
      "execution_count": null,
      "outputs": []
    },
    {
      "cell_type": "code",
      "source": [
        "# Call Pipeline and pass parameters\n",
        "if __name__ == '__main__':\n",
        "  #Temp\n",
        "  temp_location = make_path(\"nidec-ga-temp\", \"data_flow_pipelines\", \"pbi-footprint\", \"temp\")\n",
        "\n",
        "  #Common Data\n",
        "  pbi_source_table = \"nidec-ga.bq_refined.PBI_PFX\"\n",
        "\n",
        "  #PBI_MATERIAL_DIM\n",
        "  dim_material_output_table = \"nidec-ga.bq_trusted.PBI_MATERIAL_DIM_DF\"\n",
        "  build_material_dim(pbi_source_table, dim_material_output_table, temp_location)\n",
        "\n",
        "  #PBI_VENDORS_DIM\n",
        "  dim_vendors_output_table = \"nidec-ga.bq_trusted.PBI_VENDORS_DIM_DF\"\n",
        "  build_vendor_dim(pbi_source_table, dim_vendors_output_table, temp_location)"
      ],
      "metadata": {
        "colab": {
          "base_uri": "https://localhost:8080/",
          "height": 83
        },
        "id": "IV7eGogYYqcL",
        "outputId": "371cdd13-f134-489e-aca2-387ebe4e3154"
      },
      "execution_count": null,
      "outputs": [
        {
          "output_type": "display_data",
          "data": {
            "text/plain": [
              "<IPython.core.display.HTML object>"
            ],
            "text/html": [
              "\n",
              "  <style>\n",
              "    div.alert {\n",
              "      white-space: pre-line;\n",
              "    }\n",
              "  </style>\n"
            ]
          },
          "metadata": {}
        },
        {
          "output_type": "display_data",
          "data": {
            "text/plain": [
              "<IPython.core.display.HTML object>"
            ],
            "text/html": [
              "\n",
              "            <link rel=\"stylesheet\" href=\"https://stackpath.bootstrapcdn.com/bootstrap/4.4.1/css/bootstrap.min.css\" integrity=\"sha384-Vkoo8x4CGsO3+Hhxv8T/Q5PaXtkKtu6ug5TOeNV6gBiFeWPGFN9MuhOf23Q9Ifjh\" crossorigin=\"anonymous\">\n",
              "            <div class=\"alert alert-info\">No cache_root detected. Defaulting to staging_location gs://nidec-ga-temp/data-flow-pipelines/pbi-footprint/staging for cache location.</div>"
            ]
          },
          "metadata": {}
        }
      ]
    }
  ]
}